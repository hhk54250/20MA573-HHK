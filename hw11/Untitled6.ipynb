{
  "nbformat": 4,
  "nbformat_minor": 0,
  "metadata": {
    "colab": {
      "name": "Untitled6.ipynb",
      "provenance": [],
      "authorship_tag": "ABX9TyNMBOtRaTmS3i8PQU4aUp8l",
      "include_colab_link": true
    },
    "kernelspec": {
      "name": "python3",
      "display_name": "Python 3"
    }
  },
  "cells": [
    {
      "cell_type": "markdown",
      "metadata": {
        "id": "view-in-github",
        "colab_type": "text"
      },
      "source": [
        "<a href=\"https://colab.research.google.com/github/hhk54250/20MA573-HHK/blob/master/hw11/Untitled6.ipynb\" target=\"_parent\"><img src=\"https://colab.research.google.com/assets/colab-badge.svg\" alt=\"Open In Colab\"/></a>"
      ]
    },
    {
      "cell_type": "code",
      "metadata": {
        "id": "Vrt6miKWHcww",
        "colab_type": "code",
        "colab": {
          "base_uri": "https://localhost:8080/",
          "height": 34
        },
        "outputId": "9a9a18db-2cfd-442e-f3a9-ac04290d7971"
      },
      "source": [
        "import scipy.stats as ss\n",
        "import numpy as np\n",
        "c = ss.norm(0,1).cdf(-2)\n",
        "print(\"the exact price is\", c)"
      ],
      "execution_count": 1,
      "outputs": [
        {
          "output_type": "stream",
          "text": [
            "the exact price is 0.022750131948179195\n"
          ],
          "name": "stdout"
        }
      ]
    },
    {
      "cell_type": "code",
      "metadata": {
        "id": "Sex1jsuqHg6k",
        "colab_type": "code",
        "colab": {
          "base_uri": "https://localhost:8080/",
          "height": 34
        },
        "outputId": "f108e009-a72d-4139-a49a-37dda71bad31"
      },
      "source": [
        "def OMC(N,alpha):\n",
        "  s=0\n",
        "  for i in range(N):\n",
        "    if np.random.normal(0,1)<-2:\n",
        "      s+=1\n",
        "  return s/N\n",
        "OMC(1000,2)"
      ],
      "execution_count": 4,
      "outputs": [
        {
          "output_type": "execute_result",
          "data": {
            "text/plain": [
              "0.02"
            ]
          },
          "metadata": {
            "tags": []
          },
          "execution_count": 4
        }
      ]
    },
    {
      "cell_type": "code",
      "metadata": {
        "id": "ur88UmdlHjmR",
        "colab_type": "code",
        "colab": {
          "base_uri": "https://localhost:8080/",
          "height": 34
        },
        "outputId": "d4a1d0ad-b673-46d3-ad44-10f428981a3f"
      },
      "source": [
        "def IS(N,alpha):\n",
        "  s=0\n",
        "  for i in range(N):\n",
        "    A= np.random.normal(-alpha,1)\n",
        "    if A<-2:\n",
        "      s+= np.exp(alpha**2/2 + alpha*A)\n",
        "  return s/N\n",
        "IS(1000,2)"
      ],
      "execution_count": 5,
      "outputs": [
        {
          "output_type": "execute_result",
          "data": {
            "text/plain": [
              "0.024642299563524404"
            ]
          },
          "metadata": {
            "tags": []
          },
          "execution_count": 5
        }
      ]
    },
    {
      "cell_type": "code",
      "metadata": {
        "id": "7r9q_Ti_Hsa0",
        "colab_type": "code",
        "colab": {
          "base_uri": "https://localhost:8080/",
          "height": 51
        },
        "outputId": "14e5d6be-3009-4d68-d2b8-e2c22620b1fa"
      },
      "source": [
        "var_IS=0\n",
        "var_omc=0\n",
        "for i in range(10000):\n",
        "  var_omc+= (c - OMC(1000,2))**2\n",
        "  var_IS += (c - IS(1000,2))**2\n",
        "  mse_omc = var_omc/10000\n",
        "  mse_IS = var_IS/10000\n",
        "print(mse_omc)\n",
        "print(mse_IS)"
      ],
      "execution_count": 6,
      "outputs": [
        {
          "output_type": "stream",
          "text": [
            "2.237845822458695e-05\n",
            "1.2331921111671918e-06\n"
          ],
          "name": "stdout"
        }
      ]
    },
    {
      "cell_type": "code",
      "metadata": {
        "id": "z1Gh-wHQHwhI",
        "colab_type": "code",
        "colab": {
          "base_uri": "https://localhost:8080/",
          "height": 34
        },
        "outputId": "f4048710-f836-4ec4-b3d2-7b0532e9f1a8"
      },
      "source": [
        "def MSE_OMC(alpha_hat,N):\n",
        "  for i in range (N):\n",
        "    x=ss.norm(0,1).cdf(-2)\n",
        "  MSE_OMC = (1/N)*(x-x**2)\n",
        "  return MSE_OMC\n",
        "MSE_OMC(3,10000)"
      ],
      "execution_count": 7,
      "outputs": [
        {
          "output_type": "execute_result",
          "data": {
            "text/plain": [
              "2.2232563444519632e-06"
            ]
          },
          "metadata": {
            "tags": []
          },
          "execution_count": 7
        }
      ]
    },
    {
      "cell_type": "code",
      "metadata": {
        "id": "vwmWwkknH5Nl",
        "colab_type": "code",
        "colab": {}
      },
      "source": [
        "def MSE_IS(alpha_hat,N):\n",
        "  for i in range (N):\n",
        "    x=ss.norm(0,1).cdf(-2)\n",
        "    y=ss.norm(0,1).cdf(-2-alpha_hat)\n",
        "    mse_IS = (1/N)*np.exp(alpha_hat**2)*y-(x**2)\n",
        "  return mse_IS\n",
        "MSE_IS(2,10000)"
      ],
      "execution_count": 0,
      "outputs": []
    },
    {
      "cell_type": "code",
      "metadata": {
        "id": "WaU3T_v9IArX",
        "colab_type": "code",
        "colab": {
          "base_uri": "https://localhost:8080/",
          "height": 182
        },
        "outputId": "abd0bf30-aca9-49bd-c64f-692d3c8c3bcc"
      },
      "source": [
        "diff = MSE_OMC(3,10000)-MSE_IS(3,10000)\n",
        "diff"
      ],
      "execution_count": 8,
      "outputs": [
        {
          "output_type": "error",
          "ename": "NameError",
          "evalue": "ignored",
          "traceback": [
            "\u001b[0;31m---------------------------------------------------------------------------\u001b[0m",
            "\u001b[0;31mNameError\u001b[0m                                 Traceback (most recent call last)",
            "\u001b[0;32m<ipython-input-8-399dab67dcc0>\u001b[0m in \u001b[0;36m<module>\u001b[0;34m()\u001b[0m\n\u001b[0;32m----> 1\u001b[0;31m \u001b[0mdiff\u001b[0m \u001b[0;34m=\u001b[0m \u001b[0mMSE_OMC\u001b[0m\u001b[0;34m(\u001b[0m\u001b[0;36m3\u001b[0m\u001b[0;34m,\u001b[0m\u001b[0;36m10000\u001b[0m\u001b[0;34m)\u001b[0m\u001b[0;34m-\u001b[0m\u001b[0mMSE_IS\u001b[0m\u001b[0;34m(\u001b[0m\u001b[0;36m3\u001b[0m\u001b[0;34m,\u001b[0m\u001b[0;36m10000\u001b[0m\u001b[0;34m)\u001b[0m\u001b[0;34m\u001b[0m\u001b[0;34m\u001b[0m\u001b[0m\n\u001b[0m\u001b[1;32m      2\u001b[0m \u001b[0mdiff\u001b[0m\u001b[0;34m\u001b[0m\u001b[0;34m\u001b[0m\u001b[0m\n",
            "\u001b[0;31mNameError\u001b[0m: name 'MSE_IS' is not defined"
          ]
        }
      ]
    }
  ]
}