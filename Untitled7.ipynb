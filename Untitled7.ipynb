{
  "nbformat": 4,
  "nbformat_minor": 0,
  "metadata": {
    "colab": {
      "name": "Untitled7.ipynb",
      "provenance": [],
      "authorship_tag": "ABX9TyPBFg7g20U9CgGzGX0mCzqe",
      "include_colab_link": true
    },
    "kernelspec": {
      "name": "python3",
      "display_name": "Python 3"
    }
  },
  "cells": [
    {
      "cell_type": "markdown",
      "metadata": {
        "id": "view-in-github",
        "colab_type": "text"
      },
      "source": [
        "<a href=\"https://colab.research.google.com/github/hhk54250/20MA573-HHK/blob/master/Untitled7.ipynb\" target=\"_parent\"><img src=\"https://colab.research.google.com/assets/colab-badge.svg\" alt=\"Open In Colab\"/></a>"
      ]
    },
    {
      "cell_type": "code",
      "metadata": {
        "id": "D8HTeE2DB_i2",
        "colab_type": "code",
        "colab": {}
      },
      "source": [
        "import numpy.matlib\n",
        "import numpy as np"
      ],
      "execution_count": 0,
      "outputs": []
    },
    {
      "cell_type": "code",
      "metadata": {
        "id": "4IemwsySCLhV",
        "colab_type": "code",
        "colab": {
          "base_uri": "https://localhost:8080/",
          "height": 34
        },
        "outputId": "5306c98c-6f99-4140-fdde-d0818554ef58"
      },
      "source": [
        "\n",
        "import random\n",
        "A=0\n",
        "B=2*np.pi\n",
        "n= 0\n",
        "for i in range(1000000):\n",
        "  c=[]\n",
        "  a= random.uniform(A,B)\n",
        "  b= random.uniform(A,B)\n",
        "  if a>b:\n",
        "    c1=b\n",
        "    c2=a-b\n",
        "    c3=B-a\n",
        "  if b>a:\n",
        "    c1=a\n",
        "    c2=b-a\n",
        "    c3=B-b \n",
        "  c.append(c1)\n",
        "  c.append(c2)\n",
        "  c.append(c3)\n",
        "  l=np.max(c)\n",
        "  if l<np.pi:\n",
        "    n=n+1   \n",
        "print(str(n/1000000))\n"
      ],
      "execution_count": 29,
      "outputs": [
        {
          "output_type": "stream",
          "text": [
            "0.249633\n"
          ],
          "name": "stdout"
        }
      ]
    }
  ]
}