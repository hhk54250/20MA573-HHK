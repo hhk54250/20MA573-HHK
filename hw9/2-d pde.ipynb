{
  "nbformat": 4,
  "nbformat_minor": 0,
  "metadata": {
    "colab": {
      "name": "Untitled4.ipynb",
      "provenance": [],
      "collapsed_sections": [],
      "authorship_tag": "ABX9TyP1bLrQKsPsR6BG5CRvGl/e",
      "include_colab_link": true
    },
    "kernelspec": {
      "name": "python3",
      "display_name": "Python 3"
    }
  },
  "cells": [
    {
      "cell_type": "markdown",
      "metadata": {
        "id": "view-in-github",
        "colab_type": "text"
      },
      "source": [
        "<a href=\"https://colab.research.google.com/github/hhk54250/20MA573-HHK/blob/master/hw9/2-d%20pde.ipynb\" target=\"_parent\"><img src=\"https://colab.research.google.com/assets/colab-badge.svg\" alt=\"Open In Colab\"/></a>"
      ]
    },
    {
      "cell_type": "code",
      "metadata": {
        "id": "9C18vw97pr60",
        "colab_type": "code",
        "colab": {
          "base_uri": "https://localhost:8080/",
          "height": 187
        },
        "outputId": "9eb148de-2043-42b7-ca70-83f77d856e0e"
      },
      "source": [
        "import numpy as np\n",
        "def uh(n,error1):\n",
        "    N=2**n\n",
        "    boundary=np.zeros([N+1,N+1])\n",
        "    for i in range(N+1):\n",
        "      boundary[i][0]=(i/N - 0.5)**2 + (0/N - 0.5)**2\n",
        "      boundary[0][i]=(0/N - 0.5)**2 + (i/N - 0.5)**2\n",
        "      boundary[N][i]=(1 - 0.5)**2 + (i/N - 0.5)**2\n",
        "      boundary[i][N]=(i/N - 0.5)**2 + (1 - 0.5)**2\n",
        "    r=2/(2+(1/N)**2)\n",
        "    v=boundary\n",
        "    boundary2=np.zeros([N+1,N+1])\n",
        "    for i in range(N+1):\n",
        "      boundary2[i][0]=(i/N - 0.5)**2 + (0/N - 0.5)**2\n",
        "      boundary2[0][i]=(0/N - 0.5)**2 + (i/N - 0.5)**2\n",
        "      boundary2[N][i]=(1 - 0.5)**2 + (i/N - 0.5)**2\n",
        "      boundary2[i][N]=(i/N - 0.5)**2 + (1 - 0.5)**2   \n",
        "    u=boundary2\n",
        "    error2=[]\n",
        "    for i in range(N-1):\n",
        "      for j in range(N-1):\n",
        "        v[i+1][j+1]=(u[i+2][j+1]/4+u[i+1][j+2]/4+u[i][j+1]/4+u[i+1][j]/4+(((1/N)**2)/2)*(((i+1)/N)**2+((j+1)/N)**2-(i+1)/N-(j+1)/N-3/2))*r\n",
        "    error=1  \n",
        "    while error > error1:\n",
        "      for i in range(N):\n",
        "        for j in range(N):\n",
        "          u[i][j]=v[i][j]\n",
        "      for i in range(N-1):\n",
        "        for j in range(N-1):\n",
        "          v[i+1][j+1]=(u[i+2][j+1]/4+u[i+1][j+2]/4+u[i][j+1]/4+u[i+1][j]/4+(((1/N)**2)/2)*(((i+1)/N)**2+((j+1)/N)**2-(i+1)/N-(j+1)/N-3/2))*r\n",
        "      error = np.max(np.abs(u - v))\n",
        "    return [v]\n",
        "uh(2,0.0001)"
      ],
      "execution_count": 135,
      "outputs": [
        {
          "output_type": "execute_result",
          "data": {
            "text/plain": [
              "[array([[ 5.00000000e-01,  3.12500000e-01,  2.50000000e-01,\n",
              "          3.12500000e-01,  5.00000000e-01],\n",
              "        [ 3.12500000e-01,  1.24929845e-01,  6.24298450e-02,\n",
              "          1.24929845e-01,  3.12500000e-01],\n",
              "        [ 2.50000000e-01,  6.24298450e-02, -1.40310039e-04,\n",
              "          6.24298450e-02,  2.50000000e-01],\n",
              "        [ 3.12500000e-01,  1.24929845e-01,  6.24298450e-02,\n",
              "          1.24929845e-01,  3.12500000e-01],\n",
              "        [ 5.00000000e-01,  3.12500000e-01,  2.50000000e-01,\n",
              "          3.12500000e-01,  5.00000000e-01]])]"
            ]
          },
          "metadata": {
            "tags": []
          },
          "execution_count": 135
        }
      ]
    },
    {
      "cell_type": "code",
      "metadata": {
        "id": "pK_EHr3zJFwp",
        "colab_type": "code",
        "colab": {
          "base_uri": "https://localhost:8080/",
          "height": 102
        },
        "outputId": "38b8c7e0-aaef-4afb-8103-d2e50aeb8b4e"
      },
      "source": [
        "def exact(n):\n",
        "  N=2**n\n",
        "  exactvalue = np.zeros([N+1, N+1])\n",
        "  for i in range(N+1):\n",
        "    for j in range(N+1):\n",
        "      exactvalue[i][j] = (i/N - 0.5)**2 + (j/N - 0.5)**2\n",
        "  return exactvalue\n",
        "exact(2)"
      ],
      "execution_count": 136,
      "outputs": [
        {
          "output_type": "execute_result",
          "data": {
            "text/plain": [
              "array([[0.5   , 0.3125, 0.25  , 0.3125, 0.5   ],\n",
              "       [0.3125, 0.125 , 0.0625, 0.125 , 0.3125],\n",
              "       [0.25  , 0.0625, 0.    , 0.0625, 0.25  ],\n",
              "       [0.3125, 0.125 , 0.0625, 0.125 , 0.3125],\n",
              "       [0.5   , 0.3125, 0.25  , 0.3125, 0.5   ]])"
            ]
          },
          "metadata": {
            "tags": []
          },
          "execution_count": 136
        }
      ]
    },
    {
      "cell_type": "code",
      "metadata": {
        "id": "4lURyJWYTt7C",
        "colab_type": "code",
        "colab": {
          "base_uri": "https://localhost:8080/",
          "height": 34
        },
        "outputId": "ad44ccab-5acc-461d-c215-5ceb14118e3e"
      },
      "source": [
        "error2 = np.max(np.abs(uh(2,0.0001)  - exact(2)))\n",
        "error2"
      ],
      "execution_count": 128,
      "outputs": [
        {
          "output_type": "execute_result",
          "data": {
            "text/plain": [
              "0.00014031003856245498"
            ]
          },
          "metadata": {
            "tags": []
          },
          "execution_count": 128
        }
      ]
    },
    {
      "cell_type": "code",
      "metadata": {
        "id": "uWRko1qrUFTi",
        "colab_type": "code",
        "colab": {
          "base_uri": "https://localhost:8080/",
          "height": 34
        },
        "outputId": "15ab2b83-195e-49e2-df33-5dc48c4ea715"
      },
      "source": [
        "error3 = np.max(np.abs(uh(3,0.0001)  - exact(3)))\n",
        "error3"
      ],
      "execution_count": 129,
      "outputs": [
        {
          "output_type": "execute_result",
          "data": {
            "text/plain": [
              "0.0009194811677614096"
            ]
          },
          "metadata": {
            "tags": []
          },
          "execution_count": 129
        }
      ]
    },
    {
      "cell_type": "code",
      "metadata": {
        "id": "qoD8MxzAUFbR",
        "colab_type": "code",
        "colab": {
          "base_uri": "https://localhost:8080/",
          "height": 34
        },
        "outputId": "f0c8b960-f98d-4aae-e63c-50869366771a"
      },
      "source": [
        "error4 = np.max(np.abs(uh(4,0.0001)  - exact(4)))\n",
        "error4"
      ],
      "execution_count": 130,
      "outputs": [
        {
          "output_type": "execute_result",
          "data": {
            "text/plain": [
              "0.004347504602398692"
            ]
          },
          "metadata": {
            "tags": []
          },
          "execution_count": 130
        }
      ]
    },
    {
      "cell_type": "code",
      "metadata": {
        "id": "mU3bu5yXUFj_",
        "colab_type": "code",
        "colab": {
          "base_uri": "https://localhost:8080/",
          "height": 34
        },
        "outputId": "f006d1af-8399-491c-c33e-1003087c33a1"
      },
      "source": [
        "error5 = np.max(np.abs(uh(5,0.0001)  - exact(5)))\n",
        "error5"
      ],
      "execution_count": 131,
      "outputs": [
        {
          "output_type": "execute_result",
          "data": {
            "text/plain": [
              "0.01860312268833323"
            ]
          },
          "metadata": {
            "tags": []
          },
          "execution_count": 131
        }
      ]
    }
  ]
}