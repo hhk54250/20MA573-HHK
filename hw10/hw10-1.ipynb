{
  "nbformat": 4,
  "nbformat_minor": 0,
  "metadata": {
    "colab": {
      "name": "Untitled5.ipynb",
      "provenance": [],
      "authorship_tag": "ABX9TyNXzYJH3XOTEnHuAlE+aZRT",
      "include_colab_link": true
    },
    "kernelspec": {
      "name": "python3",
      "display_name": "Python 3"
    }
  },
  "cells": [
    {
      "cell_type": "markdown",
      "metadata": {
        "id": "view-in-github",
        "colab_type": "text"
      },
      "source": [
        "<a href=\"https://colab.research.google.com/github/hhk54250/20MA573-HHK/blob/master/hw10/hw10-1.ipynb\" target=\"_parent\"><img src=\"https://colab.research.google.com/assets/colab-badge.svg\" alt=\"Open In Colab\"/></a>"
      ]
    },
    {
      "cell_type": "code",
      "metadata": {
        "id": "zlRj2T9wTAZS",
        "colab_type": "code",
        "colab": {
          "base_uri": "https://localhost:8080/",
          "height": 51
        },
        "outputId": "d2b3d998-4be7-4a04-dae7-2967d1496e83"
      },
      "source": [
        "import numpy as np\n",
        "import matplotlib.pyplot as plt\n",
        "from pylab import plt\n",
        "plt.style.use('seaborn')\n",
        "%matplotlib inline\n",
        "\n",
        "mu = 1; sigma = 2\n",
        "D = np.random.normal(mu, sigma, 10000)\n",
        "\n",
        "def AS(mu_ture, n):\n",
        "  alpha = 0.01\n",
        "  mu = 0\n",
        "\n",
        "  for i in range(n):\n",
        "    x = np.random.normal(mu_ture, 2)\n",
        "    b = mu\n",
        "    mu = b + alpha * (x - b)\n",
        "\n",
        "  return (mu)\n",
        "\n",
        "mu_estimate = AS(1, 10000)\n",
        "print(\"estimator of mu:\")\n",
        "print(mu_estimate)"
      ],
      "execution_count": 7,
      "outputs": [
        {
          "output_type": "stream",
          "text": [
            "estimator of mu:\n",
            "0.8264561006385629\n"
          ],
          "name": "stdout"
        }
      ]
    },
    {
      "cell_type": "code",
      "metadata": {
        "id": "mVnhia5lTLjF",
        "colab_type": "code",
        "colab": {
          "base_uri": "https://localhost:8080/",
          "height": 51
        },
        "outputId": "7f71eb57-6c55-46d6-d4d0-4b89fd9bfe17"
      },
      "source": [
        "\n",
        "mu_record = []\n",
        "mean_of_mu = []\n",
        "\n",
        "for i in range(1000):\n",
        "  mu_record.append(AS(1, 10000))\n",
        "  mean_of_mu.append(np.mean(mu_record))\n",
        "\n",
        "print(\"estimator of mu :\")\n",
        "print(mean_of_mu[-1])"
      ],
      "execution_count": 8,
      "outputs": [
        {
          "output_type": "stream",
          "text": [
            "estimator of mu :\n",
            "1.0089469623742795\n"
          ],
          "name": "stdout"
        }
      ]
    }
  ]
}