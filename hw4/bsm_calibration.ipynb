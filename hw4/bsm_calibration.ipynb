{
  "nbformat": 4,
  "nbformat_minor": 0,
  "metadata": {
    "colab": {
      "name": "Untitled8.ipynb",
      "provenance": [],
      "authorship_tag": "ABX9TyNclGPLLU97ULY3Gn+aGT/w",
      "include_colab_link": true
    },
    "kernelspec": {
      "name": "python3",
      "display_name": "Python 3"
    }
  },
  "cells": [
    {
      "cell_type": "markdown",
      "metadata": {
        "id": "view-in-github",
        "colab_type": "text"
      },
      "source": [
        "<a href=\"https://colab.research.google.com/github/hhk54250/20MA573-HHK/blob/master/hw4/bsm_calibration.ipynb\" target=\"_parent\"><img src=\"https://colab.research.google.com/assets/colab-badge.svg\" alt=\"Open In Colab\"/></a>"
      ]
    },
    {
      "cell_type": "code",
      "metadata": {
        "id": "rbClVyDhiOZ_",
        "colab_type": "code",
        "colab": {
          "base_uri": "https://localhost:8080/",
          "height": 141
        },
        "outputId": "83f3a045-c88e-4a74-dfde-d094c44ca605"
      },
      "source": [
        "\n",
        "%cd~\n",
        "\n",
        "!git clone https://github.com/hhk54250/20MA573-HHK.git \n",
        "pass"
      ],
      "execution_count": 1,
      "outputs": [
        {
          "output_type": "stream",
          "text": [
            "/root\n",
            "Cloning into '20MA573-HHK'...\n",
            "remote: Enumerating objects: 91, done.\u001b[K\n",
            "remote: Counting objects: 100% (91/91), done.\u001b[K\n",
            "remote: Compressing objects: 100% (88/88), done.\u001b[K\n",
            "remote: Total 91 (delta 34), reused 0 (delta 0), pack-reused 0\u001b[K\n",
            "Unpacking objects: 100% (91/91), done.\n"
          ],
          "name": "stdout"
        }
      ]
    },
    {
      "cell_type": "code",
      "metadata": {
        "id": "yb5bOiZGiRZa",
        "colab_type": "code",
        "colab": {
          "base_uri": "https://localhost:8080/",
          "height": 52
        },
        "outputId": "f318944d-5254-4e01-eb72-95185d6783d1"
      },
      "source": [
        "%cd 20MA573-HHK/src/\n",
        "%ls"
      ],
      "execution_count": 2,
      "outputs": [
        {
          "output_type": "stream",
          "text": [
            "/root/20MA573-HHK/src\n",
            "bsm.py  optiondata.dat  prj01.ipynb  prj02.ipynb\n"
          ],
          "name": "stdout"
        }
      ]
    },
    {
      "cell_type": "code",
      "metadata": {
        "id": "lPCL4YeNiTcy",
        "colab_type": "code",
        "colab": {}
      },
      "source": [
        "from bsm import *"
      ],
      "execution_count": 0,
      "outputs": []
    },
    {
      "cell_type": "code",
      "metadata": {
        "id": "SjkZ3Id6iVJD",
        "colab_type": "code",
        "colab": {
          "base_uri": "https://localhost:8080/",
          "height": 52
        },
        "outputId": "cf577e98-94ca-471b-a875-a99ac28aac04"
      },
      "source": [
        "\n",
        "'''===============\n",
        "Test bsm_price\n",
        "================='''\n",
        "gbm1 = Gbm(\n",
        "    init_state = 100., \n",
        "    drift_ratio = .0475,\n",
        "    vol_ratio = .2)\n",
        "option1 = VanillaOption(\n",
        "    otype = 1,\n",
        "    strike = 110.,                \n",
        "    maturity = 1.\n",
        ")    \n",
        "\n",
        "print('>>>>>>>>>>call value is ' + str(gbm1.bsm_price(option1)))\n",
        "option2 = VanillaOption(otype=-1)\n",
        "print('>>>>>>>>>>put value is ' + str(gbm1.bsm_price(option2)))"
      ],
      "execution_count": 66,
      "outputs": [
        {
          "output_type": "stream",
          "text": [
            ">>>>>>>>>>call value is 5.943273183452838\n",
            ">>>>>>>>>>put value is 10.84042522804176\n"
          ],
          "name": "stdout"
        }
      ]
    },
    {
      "cell_type": "code",
      "metadata": {
        "id": "Rd8oYgHfiXsr",
        "colab_type": "code",
        "colab": {
          "base_uri": "https://localhost:8080/",
          "height": 176
        },
        "outputId": "2aea32f5-5642-49a6-f19d-1a90a54caac6"
      },
      "source": [
        "np_option_data1 = np.loadtxt('optiondata.dat', comments='#', delimiter=',')\n",
        "\n",
        "print('>>>>>>otype, maturity, strike, option_price')\n",
        "print(np_option_data1)"
      ],
      "execution_count": 5,
      "outputs": [
        {
          "output_type": "stream",
          "text": [
            ">>>>>>otype, maturity, strike, option_price\n",
            "[[  1.           0.16666667  97.           5.32705461]\n",
            " [  1.           0.16666667  99.           3.86224255]\n",
            " [  1.           0.16666667 101.           2.7204371 ]\n",
            " [  1.           0.16666667 103.           2.1202793 ]\n",
            " [  1.           0.41666667  97.           7.23756307]\n",
            " [  1.           0.41666667  99.           5.95053461]\n",
            " [  1.           0.41666667 101.           5.2640122 ]\n",
            " [  1.           0.41666667 103.           4.97493422]]\n"
          ],
          "name": "stdout"
        }
      ]
    },
    {
      "cell_type": "code",
      "metadata": {
        "id": "EtG7La8MiZbN",
        "colab_type": "code",
        "colab": {}
      },
      "source": [
        "'''====================\n",
        "create option_list from the data\n",
        "======================='''\n",
        "\n",
        "num_row = np_option_data1.shape[0]\n",
        "option_list = []\n",
        "\n",
        "for i in range(num_row):\n",
        "  option1 = VanillaOption(\n",
        "      otype = np_option_data1[i,0],\n",
        "      strike = np_option_data1[i,2],\n",
        "      maturity = np_option_data1[i,1],\n",
        "      market_price = np_option_data1[i,3]\n",
        "  )   \n",
        "  option_list.append(option1)"
      ],
      "execution_count": 0,
      "outputs": []
    },
    {
      "cell_type": "code",
      "metadata": {
        "id": "Tuaf6DiTibnt",
        "colab_type": "code",
        "colab": {
          "base_uri": "https://localhost:8080/",
          "height": 176
        },
        "outputId": "2cf8af70-5242-4729-cd62-62d65c1ac52b"
      },
      "source": [
        "#expand one column for vol\n",
        "np_option_data2 = np.append(np_option_data1, np.zeros([num_row,1]), axis = 1)\n",
        "#compute implied vols and add them into the last column\n",
        "for i in range(num_row):\n",
        "  np_option_data2[i,4] = implied_volatility(gbm1, option_list[i])\n",
        "  \n",
        "print('>>>>>>otype, maturity, strike, option_price, implied vol')\n",
        "print(np_option_data2)"
      ],
      "execution_count": 7,
      "outputs": [
        {
          "output_type": "stream",
          "text": [
            ">>>>>>otype, maturity, strike, option_price, implied vol\n",
            "[[  1.           0.16666667  97.           5.32705461   0.19320313]\n",
            " [  1.           0.16666667  99.           3.86224255   0.17875   ]\n",
            " [  1.           0.16666667 101.           2.7204371    0.17307617]\n",
            " [  1.           0.16666667 103.           2.1202793    0.18785156]\n",
            " [  1.           0.41666667  97.           7.23756307   0.17350586]\n",
            " [  1.           0.41666667  99.           5.95053461   0.17042969]\n",
            " [  1.           0.41666667 101.           5.2640122    0.18578125]\n",
            " [  1.           0.41666667 103.           4.97493422   0.21083984]]\n"
          ],
          "name": "stdout"
        }
      ]
    },
    {
      "cell_type": "code",
      "metadata": {
        "id": "fdn6hPoyidRI",
        "colab_type": "code",
        "colab": {}
      },
      "source": [
        "def b_function(vol, gbm, option_list):\n",
        "  gbm.vol_ratio = vol\n",
        "  b = 0.\n",
        "  c = 0.\n",
        "  for i in range(0,4):\n",
        "    b = (b + abs((option_list[i]).market_price - gbm.bsm_price(option_list[i]))**2) \n",
        "  c = np.sqrt(b)\n",
        "  return c\n",
        "\n",
        "def calibration_volatility(gbm, option_list):\n",
        "  init_vol = .1 #initial guess\n",
        "  return so.fmin(b_function, init_vol, \n",
        "                 args = (gbm, option_list), disp = 0)[0]"
      ],
      "execution_count": 0,
      "outputs": []
    },
    {
      "cell_type": "code",
      "metadata": {
        "id": "9YE6hK_-ihmT",
        "colab_type": "code",
        "colab": {
          "base_uri": "https://localhost:8080/",
          "height": 34
        },
        "outputId": "e6d85cb5-f9b8-4c62-c58b-cd68d0da8d0d"
      },
      "source": [
        "\n",
        "print('>>>>>>>>calibration volatility for 2 months is ' + \n",
        "     str(calibration_volatility(gbm1, option_list)))"
      ],
      "execution_count": 99,
      "outputs": [
        {
          "output_type": "stream",
          "text": [
            ">>>>>>>>calibration volatility for 2 months is 0.18250000000000027\n"
          ],
          "name": "stdout"
        }
      ]
    },
    {
      "cell_type": "code",
      "metadata": {
        "id": "JsPqCLXOr9Mn",
        "colab_type": "code",
        "colab": {
          "base_uri": "https://localhost:8080/",
          "height": 34
        },
        "outputId": "f8c5878a-d673-4f0a-9d2b-b5c5286ded38"
      },
      "source": [
        "gbm1.vol_ratio = calibration_volatility(gbm1, option_list)\n",
        "calibrated_price = []\n",
        "for i in range(0,4):\n",
        "  b = gbm1.bsm_price(option_list[i]) \n",
        "  calibrated_price.append(b)\n",
        "print (calibrated_price)"
      ],
      "execution_count": 100,
      "outputs": [
        {
          "output_type": "stream",
          "text": [
            "[5.176357894124408, 3.9206969095088553, 2.8739902270479476, 2.0360432828599997]\n"
          ],
          "name": "stdout"
        }
      ]
    },
    {
      "cell_type": "code",
      "metadata": {
        "id": "hr8Pl0zrvqU0",
        "colab_type": "code",
        "colab": {
          "base_uri": "https://localhost:8080/",
          "height": 294
        },
        "outputId": "82c6ba79-2660-4a64-d92e-902cf9790ce5"
      },
      "source": [
        "x= [option_list[i].strike for i in range(0,4)]\n",
        "y = [option_list[i].market_price for i in range(0,4)]\n",
        "plt.plot(x, y, 'o', label='Market price')\n",
        "\n",
        "y = calibrated_price\n",
        "plt.plot(x, y, 'r', label = 'Calibrated price')\n",
        "\n",
        "plt.ylabel('option price')\n",
        "plt.xlabel('strike')\n",
        "plt.title('2-mon')\n",
        "plt.legend();"
      ],
      "execution_count": 111,
      "outputs": [
        {
          "output_type": "display_data",
          "data": {
            "image/png": "[encoded data removed]",
            "text/plain": [
              "<Figure size 432x288 with 1 Axes>"
            ]
          },
          "metadata": {
            "tags": []
          }
        }
      ]
    },
    {
      "cell_type": "code",
      "metadata": {
        "id": "La4MrPC7kdqr",
        "colab_type": "code",
        "colab": {}
      },
      "source": [
        "def b_function(vol, gbm, option_list):\n",
        "  gbm.vol_ratio = vol\n",
        "  b = 0.\n",
        "  c = 0.\n",
        "  for i in range(4,8):\n",
        "    b = (b + abs((option_list[i]).market_price - gbm.bsm_price(option_list[i]))**2) \n",
        "  c = np.sqrt(b)\n",
        "  return c\n",
        "\n",
        "def calibration_volatility(gbm, option_list):\n",
        "  init_vol = .1 #initial guess\n",
        "  return so.fmin(b_function, init_vol, \n",
        "                 args = (gbm, option_list), disp = 0)[0]"
      ],
      "execution_count": 0,
      "outputs": []
    },
    {
      "cell_type": "code",
      "metadata": {
        "id": "pNFCR8wCkh_-",
        "colab_type": "code",
        "colab": {
          "base_uri": "https://localhost:8080/",
          "height": 34
        },
        "outputId": "a317fb67-2872-469f-a9ac-722bfe256c2f"
      },
      "source": [
        "print('>>>>>>>>calibration volatility for 5 months is ' + \n",
        "     str(calibration_volatility(gbm1, option_list)))"
      ],
      "execution_count": 114,
      "outputs": [
        {
          "output_type": "stream",
          "text": [
            ">>>>>>>>calibration volatility for 5 months is 0.18617187500000032\n"
          ],
          "name": "stdout"
        }
      ]
    },
    {
      "cell_type": "code",
      "metadata": {
        "id": "gsedqECFxNF3",
        "colab_type": "code",
        "colab": {
          "base_uri": "https://localhost:8080/",
          "height": 34
        },
        "outputId": "88cf78d5-fdc2-4ee6-cb52-d4698fd2589c"
      },
      "source": [
        "gbm1.vol_ratio = calibration_volatility(gbm1, option_list)\n",
        "calibrated_price = []\n",
        "for i in range(4,8):\n",
        "  b = gbm1.bsm_price(option_list[i]) \n",
        "  calibrated_price.append(b)\n",
        "print (calibrated_price)"
      ],
      "execution_count": 115,
      "outputs": [
        {
          "output_type": "stream",
          "text": [
            "[7.52657356701409, 6.3355902235228, 5.273494726839061, 4.339981549139665]\n"
          ],
          "name": "stdout"
        }
      ]
    },
    {
      "cell_type": "code",
      "metadata": {
        "id": "ScpObphgxUKG",
        "colab_type": "code",
        "colab": {
          "base_uri": "https://localhost:8080/",
          "height": 294
        },
        "outputId": "bb970b6f-0a5b-41dc-d960-c4884def37e6"
      },
      "source": [
        "x= [option_list[i].strike for i in range(4,8)]\n",
        "y = [option_list[i].market_price for i in range(4,8)]\n",
        "plt.plot(x, y, 'o', label='Market price')\n",
        "\n",
        "y = calibrated_price\n",
        "plt.plot(x, y, 'r', label = 'Calibrated price')\n",
        "\n",
        "plt.ylabel('option price')\n",
        "plt.xlabel('strike')\n",
        "plt.title('5-mon')\n",
        "plt.legend();"
      ],
      "execution_count": 116,
      "outputs": [
        {
          "output_type": "display_data",
          "data": {
            "image/png": "[encoded data removed]",
            "text/plain": [
              "<Figure size 432x288 with 1 Axes>"
            ]
          },
          "metadata": {
            "tags": []
          }
        }
      ]
    },
    {
      "cell_type": "markdown",
      "metadata": {
        "id": "Qv7fTT1NzWVd",
        "colab_type": "text"
      },
      "source": [
        "0.18617187500000032>0.18250000000000027"
      ]
    }
  ]
}