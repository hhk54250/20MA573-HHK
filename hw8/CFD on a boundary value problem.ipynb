{
  "nbformat": 4,
  "nbformat_minor": 0,
  "metadata": {
    "colab": {
      "name": "Untitled2.ipynb",
      "provenance": [],
      "collapsed_sections": [],
      "authorship_tag": "ABX9TyMkFVQY2wibVO4NfxdYWsAY",
      "include_colab_link": true
    },
    "kernelspec": {
      "name": "python3",
      "display_name": "Python 3"
    }
  },
  "cells": [
    {
      "cell_type": "markdown",
      "metadata": {
        "id": "view-in-github",
        "colab_type": "text"
      },
      "source": [
        "<a href=\"https://colab.research.google.com/github/hhk54250/20MA573-HHK/blob/master/hw8/CFD%20on%20a%20boundary%20value%20problem.ipynb\" target=\"_parent\"><img src=\"https://colab.research.google.com/assets/colab-badge.svg\" alt=\"Open In Colab\"/></a>"
      ]
    },
    {
      "cell_type": "code",
      "metadata": {
        "id": "cjtYVgUkfpHS",
        "colab_type": "code",
        "colab": {
          "base_uri": "https://localhost:8080/",
          "height": 102
        },
        "outputId": "dc257d26-3784-4fda-b8f9-a78569d7e1d1"
      },
      "source": [
        "import numpy as np\n",
        "import scipy.linalg as li\n",
        "def uh(\n",
        "    h,\n",
        "    b, \n",
        "    c,\n",
        "    n):\n",
        "    r=1/(h**2)+b/(2*h)\n",
        "    s=2/(h**2)+c\n",
        "    t=1/(h**2)-b/(2*h)\n",
        "    Lh=np.zeros([n+1,n+1])\n",
        "    Rhf=np.zeros([n+1,1])\n",
        "    for i in range(n-1):\n",
        "      Rhf[i+1,0]=2*(h*(i+1))*(h*(i+1))-3\n",
        "    for i in range(n-1):\n",
        "      Lh[i+1,i]=-r\n",
        "      Lh[i+1,i+1]=s\n",
        "      Lh[i+1,i+2]=-t\n",
        "    Lh[0,0]=1\n",
        "    Lh[n,n]=1\n",
        "    sol=li.solve(Lh, Rhf)\n",
        "    return sol         \n",
        "uh(1/4,1,2,4)\n"
      ],
      "execution_count": 1,
      "outputs": [
        {
          "output_type": "execute_result",
          "data": {
            "text/plain": [
              "array([[ 1.48029737e-16],\n",
              "       [-1.87500000e-01],\n",
              "       [-2.50000000e-01],\n",
              "       [-1.87500000e-01],\n",
              "       [ 0.00000000e+00]])"
            ]
          },
          "metadata": {
            "tags": []
          },
          "execution_count": 1
        }
      ]
    },
    {
      "cell_type": "code",
      "metadata": {
        "id": "ecPyFXEclCuj",
        "colab_type": "code",
        "colab": {
          "base_uri": "https://localhost:8080/",
          "height": 265
        },
        "outputId": "2a71d8c2-edfe-4b91-f000-3d528c029c74"
      },
      "source": [
        "import matplotlib.pyplot as plt\n",
        "x=np.linspace(0,1,5)\n",
        "plt.plot(x, uh(1/4,1,2,4),'o');\n",
        "y=x*x-x\n",
        "plt.plot(x, y);"
      ],
      "execution_count": 2,
      "outputs": [
        {
          "output_type": "display_data",
          "data": {
            "image/png": "[encoded data removed]",
            "text/plain": [
              "<Figure size 432x288 with 1 Axes>"
            ]
          },
          "metadata": {
            "tags": []
          }
        }
      ]
    },
    {
      "cell_type": "code",
      "metadata": {
        "id": "lVKb89AF1pJP",
        "colab_type": "code",
        "colab": {
          "base_uri": "https://localhost:8080/",
          "height": 34
        },
        "outputId": "b2b61823-6973-4285-a49a-038e2b5e33c9"
      },
      "source": [
        "import math\n",
        "error=[]\n",
        "error1=[]\n",
        "for i in range(5):\n",
        "  error.append(abs((i/4)*(i/4)-(i/4)-uh(1/4,1,2,4)[i,0]))\n",
        "print(np.max(error))\n",
        "error1.append(math.log(np.max(error)))  "
      ],
      "execution_count": 3,
      "outputs": [
        {
          "output_type": "stream",
          "text": [
            "1.4802973661668753e-16\n"
          ],
          "name": "stdout"
        }
      ]
    },
    {
      "cell_type": "code",
      "metadata": {
        "id": "iGFcQ1mW5AsD",
        "colab_type": "code",
        "colab": {
          "base_uri": "https://localhost:8080/",
          "height": 34
        },
        "outputId": "8c073b0b-af61-48f1-f9e1-7ff4b4c79022"
      },
      "source": [
        "error=[]\n",
        "for i in range(9):\n",
        "  error.append(abs((i/8)*(i/8)-(i/8)-uh(1/8,1,2,8)[i,0]))\n",
        "print(np.max(error))  \n",
        "error1.append(math.log(np.max(error)))  "
      ],
      "execution_count": 4,
      "outputs": [
        {
          "output_type": "stream",
          "text": [
            "2.873518416676876e-16\n"
          ],
          "name": "stdout"
        }
      ]
    },
    {
      "cell_type": "code",
      "metadata": {
        "id": "Q015Axz_5hfO",
        "colab_type": "code",
        "colab": {
          "base_uri": "https://localhost:8080/",
          "height": 34
        },
        "outputId": "52ebf236-9a47-474f-dcd6-a41bb404f982"
      },
      "source": [
        "error=[]\n",
        "for i in range(17):\n",
        "  error.append(abs((i/16)*(i/16)-(i/16)-uh(1/16,1,2,16)[i,0]))\n",
        "print(np.max(error))  \n",
        "error1.append(math.log(np.max(error)))  "
      ],
      "execution_count": 5,
      "outputs": [
        {
          "output_type": "stream",
          "text": [
            "1.4130111222501992e-15\n"
          ],
          "name": "stdout"
        }
      ]
    },
    {
      "cell_type": "code",
      "metadata": {
        "id": "fFDPvc2n5qf4",
        "colab_type": "code",
        "colab": {
          "base_uri": "https://localhost:8080/",
          "height": 34
        },
        "outputId": "97383ec3-9d06-4498-bd82-f701b82453d2"
      },
      "source": [
        "error=[]\n",
        "for i in range(33):\n",
        "  error.append(abs((i/32)*(i/32)-(i/32)-uh(1/32,1,2,32)[i,0]))\n",
        "print(np.max(error))  \n",
        "error1.append(math.log(np.max(error)))  "
      ],
      "execution_count": 6,
      "outputs": [
        {
          "output_type": "stream",
          "text": [
            "2.377585308120335e-15\n"
          ],
          "name": "stdout"
        }
      ]
    },
    {
      "cell_type": "code",
      "metadata": {
        "id": "Yi5KaaoG517N",
        "colab_type": "code",
        "colab": {
          "base_uri": "https://localhost:8080/",
          "height": 34
        },
        "outputId": "d8d94ac9-0142-4c51-fdcd-342a36272f95"
      },
      "source": [
        "error=[]\n",
        "for i in range(65):\n",
        "  error.append(abs((i/64)*(i/64)-(i/64)-uh(1/64,1,2,64)[i,0]))\n",
        "print(np.max(error)) \n",
        "error1.append(math.log(np.max(error)))  "
      ],
      "execution_count": 7,
      "outputs": [
        {
          "output_type": "stream",
          "text": [
            "2.7755575615628914e-17\n"
          ],
          "name": "stdout"
        }
      ]
    },
    {
      "cell_type": "code",
      "metadata": {
        "id": "K5RAIXzi9Am2",
        "colab_type": "code",
        "colab": {
          "base_uri": "https://localhost:8080/",
          "height": 102
        },
        "outputId": "1045d245-9900-4c2d-d79e-ac2d53b80939"
      },
      "source": [
        "error1"
      ],
      "execution_count": 9,
      "outputs": [
        {
          "output_type": "execute_result",
          "data": {
            "text/plain": [
              "[-36.44911849722532,\n",
              " -35.78582427981505,\n",
              " -34.19305341986617,\n",
              " -33.67269099867838,\n",
              " -38.123094930796995]"
            ]
          },
          "metadata": {
            "tags": []
          },
          "execution_count": 9
        }
      ]
    },
    {
      "cell_type": "code",
      "metadata": {
        "id": "V_1CI9Tj2Wo2",
        "colab_type": "code",
        "colab": {
          "base_uri": "https://localhost:8080/",
          "height": 282
        },
        "outputId": "10d8a336-9436-4518-a93e-4ff328fcb4db"
      },
      "source": [
        "h=[]\n",
        "for i in range(5):\n",
        "  h.append(math.log(2**(-i-2)))\n",
        "plt.plot(h, error1,'o')"
      ],
      "execution_count": 12,
      "outputs": [
        {
          "output_type": "execute_result",
          "data": {
            "text/plain": [
              "[<matplotlib.lines.Line2D at 0x7f6d73b8c5f8>]"
            ]
          },
          "metadata": {
            "tags": []
          },
          "execution_count": 12
        },
        {
          "output_type": "display_data",
          "data": {
            "image/png": "[encoded data removed]",
            "text/plain": [
              "<Figure size 432x288 with 1 Axes>"
            ]
          },
          "metadata": {
            "tags": []
          }
        }
      ]
    },
    {
      "cell_type": "code",
      "metadata": {
        "id": "lUMZRiQq_AKf",
        "colab_type": "code",
        "colab": {
          "base_uri": "https://localhost:8080/",
          "height": 34
        },
        "outputId": "05559b29-850b-49b7-b89e-267d24489420"
      },
      "source": [
        "import scipy.stats as ss\n",
        "out = ss.linregress(h,error1)\n",
        "print('the convergence order is ' + str(-out[0]))"
      ],
      "execution_count": 13,
      "outputs": [
        {
          "output_type": "stream",
          "text": [
            "the convergence order is -0.17814680931243876\n"
          ],
          "name": "stdout"
        }
      ]
    }
  ]
}