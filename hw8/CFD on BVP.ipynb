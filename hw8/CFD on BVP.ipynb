{
  "nbformat": 4,
  "nbformat_minor": 0,
  "metadata": {
    "colab": {
      "name": "Untitled3.ipynb",
      "provenance": [],
      "authorship_tag": "ABX9TyPaXppp8XqpTtjA2XI9mvED",
      "include_colab_link": true
    },
    "kernelspec": {
      "name": "python3",
      "display_name": "Python 3"
    }
  },
  "cells": [
    {
      "cell_type": "markdown",
      "metadata": {
        "id": "view-in-github",
        "colab_type": "text"
      },
      "source": [
        "<a href=\"https://colab.research.google.com/github/hhk54250/20MA573-HHK/blob/master/hw8/CFD%20on%20BVP.ipynb\" target=\"_parent\"><img src=\"https://colab.research.google.com/assets/colab-badge.svg\" alt=\"Open In Colab\"/></a>"
      ]
    },
    {
      "cell_type": "code",
      "metadata": {
        "id": "vX62GAyldtrQ",
        "colab_type": "code",
        "colab": {
          "base_uri": "https://localhost:8080/",
          "height": 119
        },
        "outputId": "0c04e269-29a6-4720-9c53-68d06bfb944e"
      },
      "source": [
        "import numpy as np\n",
        "import scipy.linalg as li\n",
        "def uh(\n",
        "    h,\n",
        "    n):\n",
        "    r=10**(-10)/(h**2)\n",
        "    s=2*10**(-10)/(h**2)+1\n",
        "    t=10**(-10)/(h**2)\n",
        "    Lh=np.zeros([n+1,n+1])\n",
        "    Rhf=np.zeros([n+1,1])\n",
        "    for i in range(n-1):\n",
        "      Rhf[i+1,0]=h*(i+1)\n",
        "    for i in range(n-1):\n",
        "      Lh[i+1,i]=-r\n",
        "      Lh[i+1,i+1]=s\n",
        "      Lh[i+1,i+2]=-t\n",
        "    Lh[0,0]=1\n",
        "    Lh[n,n]=1\n",
        "    sol=li.solve(Lh, Rhf)\n",
        "    return sol         \n",
        "uh(1/5,5)"
      ],
      "execution_count": 1,
      "outputs": [
        {
          "output_type": "execute_result",
          "data": {
            "text/plain": [
              "array([[0. ],\n",
              "       [0.2],\n",
              "       [0.4],\n",
              "       [0.6],\n",
              "       [0.8],\n",
              "       [0. ]])"
            ]
          },
          "metadata": {
            "tags": []
          },
          "execution_count": 1
        }
      ]
    },
    {
      "cell_type": "code",
      "metadata": {
        "id": "FfSH5nDDACYf",
        "colab_type": "code",
        "colab": {
          "base_uri": "https://localhost:8080/",
          "height": 34
        },
        "outputId": "a1013e23-3cf2-4220-ab39-3755bb392a2d"
      },
      "source": [
        "import math\n",
        "error=[]\n",
        "erro1=[]\n",
        "for i in range(6):\n",
        "  error.append(abs((i/5) - (np.exp(((i/5) - 1)/np.sqrt(10**(-10))) - np.exp(- ((i/5)+1)/np.sqrt(10**(-10)))) / (1 - np.exp(- 2 / np.sqrt(10**(-10))))-uh(1/5,5)[i,0]))\n",
        "error\n",
        "print(np.max(error)) "
      ],
      "execution_count": 2,
      "outputs": [
        {
          "output_type": "stream",
          "text": [
            "2.4999999848063226e-09\n"
          ],
          "name": "stdout"
        }
      ]
    },
    {
      "cell_type": "code",
      "metadata": {
        "id": "PzivbDZMHkpq",
        "colab_type": "code",
        "colab": {
          "base_uri": "https://localhost:8080/",
          "height": 119
        },
        "outputId": "1bd8866e-b460-4d6a-c97b-f453912dda6a"
      },
      "source": [
        "import math\n",
        "error1=[]\n",
        "for t in range(6):\n",
        "  error=[]\n",
        "  for i in range(2**(t+2)+1):\n",
        "    error.append(abs((i/2**(t+2)) - (np.exp(((i/2**(t+2)) - 1)/np.sqrt(10**(-10))) - np.exp(- ((i/2**(t+2))+1)/np.sqrt(10**(-10)))) / (1 - np.exp(- 2 / np.sqrt(10**(-10))))-uh(1/2**(t+2),2**(t+2))[i,0]))\n",
        "  error1.append(np.max(error))\n",
        "error1"
      ],
      "execution_count": 3,
      "outputs": [
        {
          "output_type": "execute_result",
          "data": {
            "text/plain": [
              "[1.6000000213622911e-09,\n",
              " 6.399999974426862e-09,\n",
              " 2.559999867646212e-08,\n",
              " 1.0239997916272614e-07,\n",
              " 4.0959966440823337e-07,\n",
              " 1.6383946312981124e-06]"
            ]
          },
          "metadata": {
            "tags": []
          },
          "execution_count": 3
        }
      ]
    },
    {
      "cell_type": "code",
      "metadata": {
        "id": "NGQpK6V_Hk8o",
        "colab_type": "code",
        "colab": {}
      },
      "source": [
        ""
      ],
      "execution_count": 0,
      "outputs": []
    },
    {
      "cell_type": "code",
      "metadata": {
        "id": "0fL9WI-bHlD0",
        "colab_type": "code",
        "colab": {}
      },
      "source": [
        ""
      ],
      "execution_count": 0,
      "outputs": []
    },
    {
      "cell_type": "code",
      "metadata": {
        "id": "M24fsyExHlLK",
        "colab_type": "code",
        "colab": {}
      },
      "source": [
        ""
      ],
      "execution_count": 0,
      "outputs": []
    },
    {
      "cell_type": "code",
      "metadata": {
        "id": "eMZTyLLBHlRE",
        "colab_type": "code",
        "colab": {}
      },
      "source": [
        ""
      ],
      "execution_count": 0,
      "outputs": []
    },
    {
      "cell_type": "code",
      "metadata": {
        "id": "LCX6UN77HlX5",
        "colab_type": "code",
        "colab": {}
      },
      "source": [
        ""
      ],
      "execution_count": 0,
      "outputs": []
    },
    {
      "cell_type": "code",
      "metadata": {
        "id": "fgKVY4U0Hled",
        "colab_type": "code",
        "colab": {}
      },
      "source": [
        ""
      ],
      "execution_count": 0,
      "outputs": []
    },
    {
      "cell_type": "code",
      "metadata": {
        "id": "Bdnnal7ZCgNV",
        "colab_type": "code",
        "colab": {}
      },
      "source": [
        ""
      ],
      "execution_count": 0,
      "outputs": []
    }
  ]
}