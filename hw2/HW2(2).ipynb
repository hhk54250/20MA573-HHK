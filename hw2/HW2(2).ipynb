{
  "nbformat": 4,
  "nbformat_minor": 0,
  "metadata": {
    "colab": {
      "name": "Untitled0.ipynb",
      "provenance": [],
      "authorship_tag": "ABX9TyNe+2PLUWVVvdkL6z+e1O9B",
      "include_colab_link": true
    },
    "kernelspec": {
      "name": "python3",
      "display_name": "Python 3"
    }
  },
  "cells": [
    {
      "cell_type": "markdown",
      "metadata": {
        "id": "view-in-github",
        "colab_type": "text"
      },
      "source": [
        "<a href=\"https://colab.research.google.com/github/hhk54250/20MA573-HHK/blob/master/hw2/HW2(2).ipynb\" target=\"_parent\"><img src=\"https://colab.research.google.com/assets/colab-badge.svg\" alt=\"Open In Colab\"/></a>"
      ]
    },
    {
      "cell_type": "markdown",
      "metadata": {
        "id": "L47oce1lYS1T",
        "colab_type": "text"
      },
      "source": [
        "1.$$f(x+h)=f(x) + f'(x) h +1/2f''(x) h^2 + 1/6f'''(X)h^3 +1/24 f''''(X)h^4 + O(h^5)----(1)$$\n",
        "$$f(x-h)=f(x) - f'(x) h +1/2f''(x) h^2 - 1/6f'''(X)h^3 +1/24 f''''(X)h^4 - O(h^5)----(2)$$\n",
        "$$f(x+2h)=f(x) + f'(x)2 h +1/2f''(x)4 h^2 + 1/6f'''(X)8h^3 +1/24 f''''(X)16h^4 + O(h^5)----(3)$$\n",
        "$$f(x-2h)=f(x) - f'(x)2 h +1/2f''(x)4 h^2 - 1/6f'''(X)8h^3 +1/24 f''''(X)16h^4 - O(h^5)----(4)$$\n",
        "$$(1)-(2)=f'(x)2h+1/3f'''(x)h^3+O(h^5)----(5)$$\n",
        "$$(3)-(4)=f'(x)4h+8/3f'''(x)h^3+O(h^5)----(6)$$\n",
        "$$8*(5)-(6)=f'(x)12h+O(h^5)$$\n",
        "then we can get$$2/3*(1)-2/3*(2)+1/12*(4)-1/12*(3)-f'(x)=O(h^4)$$\n",
        "So we can use$$\\frac{2/3*f(x+h)-2/3*f(x-h)+1/12*f(x-2h)-1/12*f(x+2h)}{h}$$to approximate it\n",
        "\n",
        "2.\n",
        "- (1).because f(x) is even and smooth$$f(x)=f(-x)$$\n",
        "$$f'(x)=-f'(-x)$$\n",
        "$$f'(x)+f'(-x)=0$$\n",
        "Let x=0 then we can get\n",
        "$$f'(0)=0$$\n",
        "- (2).$$f(h)=f(0)+f'(0)h+1/2*f''(0)h^2+1/6*f'''(0)h^3+O(h^4)$$\n",
        "because f(x) is even,smooth,f(0)=0 and f'(0)=0,\n",
        " $$f'(x)=-f'(-x)$$\n",
        " $$f''(x)=f''(-x)$$\n",
        " $$f'''(x)=-f'''(-x)$$\n",
        "then we know f'''(0)=0\n",
        "$$ah=\\frac{2f(h)}{h^2}=f''(0)+O(h^2)$$\n",
        "$$ah-f''(0)=O(h^2)$$\n",
        "Gwan estimation has its convergence O(h^2)\n",
        "- (3).$$f(h)=f(0)+f'(0)h+1/2*f''(0)h^2+1/6*f'''(0)h^3+1/24f''''(0)h^4+1/120f'''''(0)h^5+O(h^6)$$\n",
        "$$f(2h)=f(0)+f'(0)2h+1/2*f''(0)4h^2+1/6*f'''(0)8h^3+1/24f''''(0)16h^4+1/120f'''''(0)32h^5+O(h^6)$$\n",
        "we can easily find that the odd derivative of the function is always 0\n",
        "$$f(h)=1/2*f''(0)h^2+1/24f''''(0)h^4+O(h^6)----(1)$$\n",
        "$$f(2h)=1/2*f''(0)4h^2+1/24f''''(0)16h^4+O(h^6)----(2)$$\n",
        "16*(1)-(2)=$$6f''(0)h^2+O(h^6)$$\n",
        "$$c1=8/3$$\n",
        "$$c2=-1/6$$\n",
        "- (4).because f(x) is odd,smooth,f(0)=0\n",
        "$$f(x)=-f(-x)$$\n",
        "$$f'(x)=f'(-x)$$\n",
        "$$f''(x)=-f''(-x)$$\n",
        "Let x=0 then we can get\n",
        "$$f''(0)=0$$\n"
      ]
    }
  ]
}