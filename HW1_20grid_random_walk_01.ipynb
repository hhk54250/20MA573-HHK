{
  "nbformat": 4,
  "nbformat_minor": 0,
  "metadata": {
    "kernelspec": {
      "display_name": "Python 3",
      "language": "python",
      "name": "python3"
    },
    "language_info": {
      "codemirror_mode": {
        "name": "ipython",
        "version": 3
      },
      "file_extension": ".py",
      "mimetype": "text/x-python",
      "name": "python",
      "nbconvert_exporter": "python",
      "pygments_lexer": "ipython3",
      "version": "3.7.4"
    },
    "colab": {
      "name": "Copy of 20grid_random_walk_01.ipynb",
      "provenance": [],
      "include_colab_link": true
    }
  },
  "cells": [
    {
      "cell_type": "markdown",
      "metadata": {
        "id": "view-in-github",
        "colab_type": "text"
      },
      "source": [
        "<a href=\"https://colab.research.google.com/github/hhk54250/20MA573-HHK/blob/master/HW1_20grid_random_walk_01.ipynb\" target=\"_parent\"><img src=\"https://colab.research.google.com/assets/colab-badge.svg\" alt=\"Open In Colab\"/></a>"
      ]
    },
    {
      "cell_type": "markdown",
      "metadata": {
        "id": "3MW5O5Y4Djge",
        "colab_type": "text"
      },
      "source": [
        "# Escaping from a Gridworld \n",
        "\n",
        "We will take n dimensional gridworld of any shape as our experimental environment. Read and understand the code in the following shell. Then proceed to next questions."
      ]
    },
    {
      "cell_type": "code",
      "metadata": {
        "id": "tVKFzNgVDjgg",
        "colab_type": "code",
        "colab": {}
      },
      "source": [
        "import random\n",
        "\n",
        "class grid:\n",
        "    def __init__(self, shape = (5, 5)):\n",
        "        self.n_dim = len(shape)\n",
        "        self.shape = shape\n",
        "        print('>>> grid world shape is: '+str(shape))\n",
        "\n",
        "    def is_interior(self,ix):\n",
        "        return all([0.<a<b-1 for a,b in zip(ix,list(self.shape))])\n",
        "     \n",
        "    #input: lists of index\n",
        "    #return: running cost, list of next index, list of probability\n",
        "    def step(self, ix):\n",
        "        run_cost = 0.                \n",
        "        ix_next = []; pr_next= []\n",
        "        if self.is_interior(ix):\n",
        "            run_cost = 1.\n",
        "            for i in range(self.n_dim):\n",
        "                ix1 = ix.copy(); ix1[i]+=1; ix_next += [ix1,]\n",
        "                pr1 = 1./(self.n_dim*2.0) \n",
        "                pr_next += [pr1,]\n",
        "            for i in range(self.n_dim):\n",
        "                ix1 = ix.copy(); ix1[i]-=1; ix_next += [ix1,]\n",
        "                pr1 = 1./(self.n_dim*2.0) \n",
        "                pr_next += [pr1,]\n",
        "     \n",
        "        return run_cost, ix_next, pr_next\n",
        "    \n",
        "    def step_random(self, ix):\n",
        "        run_cost, ix_next, pr_next = self.step(ix)\n",
        "        ix_next_rd = random.choices(ix_next, pr_next, k = 1)\n",
        "        return run_cost, ix_next_rd[0]\n"
      ],
      "execution_count": 0,
      "outputs": []
    },
    {
      "cell_type": "markdown",
      "metadata": {
        "id": "0OQRNrmYDjgi",
        "colab_type": "text"
      },
      "source": [
        "- Explain the meaning of each output from the next shell\n",
        "- (The first output is checking whether the point is interior after the first move\n",
        "   The second output is the number of moving(1)\n",
        "   The third output is the list of next index \n",
        "   The fourth output is the list of probability )\n"
      ]
    },
    {
      "cell_type": "code",
      "metadata": {
        "id": "YiBtwhy1Djgj",
        "colab_type": "code",
        "outputId": "5056455f-1a9b-4e08-c619-1fb0af79ca4b",
        "colab": {
          "base_uri": "https://localhost:8080/",
          "height": 187
        }
      },
      "source": [
        "\n",
        "#####check\n",
        "g1 = grid(shape=(5,5))\n",
        "ix1 = [2,3]\n",
        "print('>>>', g1.is_interior(ix1))\n",
        "o1, o2, o3 = g1.step(ix1)\n",
        "print('>>>', o1, '\\n', o2, '\\n', o3)\n",
        "\n",
        "print('>>>>>>>>><<<<<<<<<<')\n",
        "ix2 = [1,4]\n",
        "print('>>>', g1.is_interior(ix2))\n",
        "o1, o2, o3 = g1.step(ix2)\n",
        "print('>>>', o1, '\\n', o2, '\\n', o3)\n"
      ],
      "execution_count": 0,
      "outputs": [
        {
          "output_type": "stream",
          "text": [
            ">>> grid world shape is: (5, 5)\n",
            ">>> True\n",
            ">>> 1.0 \n",
            " [[3, 3], [2, 4], [1, 3], [2, 2]] \n",
            " [0.25, 0.25, 0.25, 0.25]\n",
            ">>>>>>>>><<<<<<<<<<\n",
            ">>> False\n",
            ">>> 0.0 \n",
            " [] \n",
            " []\n"
          ],
          "name": "stdout"
        }
      ]
    },
    {
      "cell_type": "markdown",
      "metadata": {
        "id": "WnLg0fAFDjgl",
        "colab_type": "text"
      },
      "source": [
        "- Explain the meaning of each output from the next shell\n",
        "- (The first output is the list of next index until reaching boundary.\n",
        "   The second output is the running cost.)"
      ]
    },
    {
      "cell_type": "code",
      "metadata": {
        "id": "ix_wR0dyDjgm",
        "colab_type": "code",
        "outputId": "fc0a682f-eccc-462b-f4ea-0f921c336fb0",
        "colab": {
          "base_uri": "https://localhost:8080/",
          "height": 136
        }
      },
      "source": [
        "#import ipdb\n",
        "\n",
        "ix = [2,2]\n",
        "tot_cost = 0.\n",
        "while g1.is_interior(ix):\n",
        "    #ipdb.set_trace()\n",
        "    run_cost, ix = g1.step_random(ix)\n",
        "    print('>>>', ix)\n",
        "    tot_cost+=run_cost\n",
        "    \n",
        "print('>>>', tot_cost)"
      ],
      "execution_count": 0,
      "outputs": [
        {
          "output_type": "stream",
          "text": [
            ">>> [3, 2]\n",
            ">>> [3, 3]\n",
            ">>> [3, 2]\n",
            ">>> [2, 2]\n",
            ">>> [2, 1]\n",
            ">>> [2, 0]\n",
            ">>> 6.0\n"
          ],
          "name": "stdout"
        }
      ]
    },
    {
      "cell_type": "markdown",
      "metadata": {
        "id": "aXz2fOYFDjgo",
        "colab_type": "text"
      },
      "source": [
        "- Consider a grid world of shape (4,4). This means, the agent's state belongs to the state space of $\\{0,1,2,3,4\\}\\times \\{0,1,2,3,4\\}$. A state $(a,b)$ is called a boundary if one of its coordinate is either $0$ or $4$. Otherwise, the state is called interior. An agent moves a random walk in the grid world from initial state $(2,2)$. Use your math to find the expected number of steps to reach the boundary."
      ]
    },
    {
      "cell_type": "markdown",
      "metadata": {
        "id": "L9__bcOaDjgo",
        "colab_type": "text"
      },
      "source": [
        "- (4.5)"
      ]
    },
    {
      "cell_type": "markdown",
      "metadata": {
        "id": "TXBH5w5eDjgp",
        "colab_type": "text"
      },
      "source": [
        "- Use your code to verify your answer."
      ]
    },
    {
      "cell_type": "code",
      "metadata": {
        "id": "b3kDi3cPDjgp",
        "colab_type": "code",
        "colab": {}
      },
      "source": [
        "#your code \n",
        "pass"
      ],
      "execution_count": 0,
      "outputs": []
    },
    {
      "cell_type": "code",
      "metadata": {
        "id": "4SoxYawnDjgr",
        "colab_type": "code",
        "colab": {}
      },
      "source": [
        "import random\n",
        "\n",
        "class grid:\n",
        "    def __init__(self, shape = (4, 4)):\n",
        "        self.n_dim = len(shape)\n",
        "        self.shape = shape\n",
        "        print('>>> grid world shape is: '+str(shape))\n",
        "\n",
        "    def is_interior(self,ix):\n",
        "        return all([0.<a<b-1 for a,b in zip(ix,list(self.shape))])\n",
        "     \n",
        "    #input: lists of index\n",
        "    #return: running cost, list of next index, list of probability\n",
        "    def step(self, ix):\n",
        "        run_cost = 0.                \n",
        "        ix_next = []; pr_next= []\n",
        "        if self.is_interior(ix):\n",
        "            run_cost = 1.\n",
        "            for i in range(self.n_dim):\n",
        "                ix1 = ix.copy(); ix1[i]+=1; ix_next += [ix1,]\n",
        "                pr1 = 1./(self.n_dim*2.0) \n",
        "                pr_next += [pr1,]\n",
        "            for i in range(self.n_dim):\n",
        "                ix1 = ix.copy(); ix1[i]-=1; ix_next += [ix1,]\n",
        "                pr1 = 1./(self.n_dim*2.0) \n",
        "                pr_next += [pr1,]\n",
        "     \n",
        "        return run_cost, ix_next, pr_next\n",
        "    \n",
        "    def step_random(self, ix):\n",
        "        run_cost, ix_next, pr_next = self.step(ix)\n",
        "        ix_next_rd = random.choices(ix_next, pr_next, k = 1)\n",
        "        return run_cost, ix_next_rd[0]"
      ],
      "execution_count": 0,
      "outputs": []
    },
    {
      "cell_type": "code",
      "metadata": {
        "id": "rvJg9IrTOaUr",
        "colab_type": "code",
        "outputId": "b60bde2b-1430-4c9c-a3d4-8947638c2fae",
        "colab": {
          "base_uri": "https://localhost:8080/",
          "height": 34
        }
      },
      "source": [
        "#import ipdb\n",
        "\n",
        "ix = [2,2]\n",
        "b =0.\n",
        "tot_cost = 0.\n",
        "\n",
        "for i in range(1000000) :\n",
        "   b +=tot_cost\n",
        "   tot_cost = 0.\n",
        "   ix = [2,2]\n",
        "   while g1.is_interior(ix):\n",
        "       #ipdb.set_trace()\n",
        "       run_cost, ix = g1.step_random(ix)\n",
        "       tot_cost+=run_cost\n",
        "\n",
        "print('>>>', b / 1000000)"
      ],
      "execution_count": 0,
      "outputs": [
        {
          "output_type": "stream",
          "text": [
            ">>> 4.499202\n"
          ],
          "name": "stdout"
        }
      ]
    }
  ]
}