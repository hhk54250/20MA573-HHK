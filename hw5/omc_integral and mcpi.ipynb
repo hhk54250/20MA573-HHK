{
  "nbformat": 4,
  "nbformat_minor": 0,
  "metadata": {
    "colab": {
      "name": "Untitled9.ipynb",
      "provenance": [],
      "authorship_tag": "ABX9TyOV/3XKIjOytsJS1JPZ8Bs/",
      "include_colab_link": true
    },
    "kernelspec": {
      "name": "python3",
      "display_name": "Python 3"
    }
  },
  "cells": [
    {
      "cell_type": "markdown",
      "metadata": {
        "id": "view-in-github",
        "colab_type": "text"
      },
      "source": [
        "<a href=\"https://colab.research.google.com/github/hhk54250/20MA573-HHK/blob/master/hw5/omc_integral%20and%20mcpi.ipynb\" target=\"_parent\"><img src=\"https://colab.research.google.com/assets/colab-badge.svg\" alt=\"Open In Colab\"/></a>"
      ]
    },
    {
      "cell_type": "code",
      "metadata": {
        "id": "Lb7Fcf1lOh6_",
        "colab_type": "code",
        "colab": {}
      },
      "source": [
        "import numpy.matlib\n",
        "import numpy as np\n"
      ],
      "execution_count": 0,
      "outputs": []
    },
    {
      "cell_type": "code",
      "metadata": {
        "id": "JaMLWgGZQPks",
        "colab_type": "code",
        "colab": {
          "base_uri": "https://localhost:8080/",
          "height": 34
        },
        "outputId": "aa375120-5832-4167-b8b9-e9373db08010"
      },
      "source": [
        "import random\n",
        "A=-1\n",
        "B= 1\n",
        "C= 17\n",
        "i= 0\n",
        "n= 0\n",
        "for i in range(10000):\n",
        "  a= random.uniform(A,B)\n",
        "  b= random.uniform(A,B)\n",
        "  if a**2+b**2<1:\n",
        "    n=n+1\n",
        "print(str(4*n/10000))"
      ],
      "execution_count": 42,
      "outputs": [
        {
          "output_type": "stream",
          "text": [
            "3.14\n"
          ],
          "name": "stdout"
        }
      ]
    },
    {
      "cell_type": "markdown",
      "metadata": {
        "id": "HiR5h2AUWFAQ",
        "colab_type": "text"
      },
      "source": [
        "# Example 3\n",
        "Given i.i.d $\\{\\alpha_i : i \\in 1, 2, ..., N\\}$, we use\n",
        "$$\\bar \\alpha_N = \\frac{1}{N} \\sum_{i=1}^N \\alpha_i$$\n",
        "as its estimator of the mean $\\mathbb E[\\alpha_1]$ and use\n",
        "$$\\beta_N = \\frac{1}{N} \\sum_{i=1}^N (\\alpha_i - \\bar \\alpha_N)^2$$\n",
        "as the estimator of $Var(\\alpha_1)$. Suppose $\\alpha_1 \\in L^4$, then \n",
        "- Prove $\\beta_N$ is biased. \n",
        "- Prove that $\\beta_N$ is consistent in $L^2$. \n",
        "- Can you propose an unbiased estimator? "
      ]
    },
    {
      "cell_type": "markdown",
      "metadata": {
        "id": "_NAHVTsVcbFT",
        "colab_type": "text"
      },
      "source": [
        "__Proof:__\n",
        "because $\\{\\alpha_i\\}$ is  iid\n",
        "\\begin{equation}\n",
        "\\begin{aligned}\n",
        "Bias（\\beta_N）= &= \\mathbb E[\\beta_N] - Var(\\alpha_1) \\\\\n",
        "\\end{aligned}\n",
        "\\end{equation}\n",
        "so \n",
        "\\begin{equation}\n",
        "\\begin{aligned}\n",
        "Bias(\\beta_N) &= \\mathbb E[\\beta_N] - Var(\\alpha_1) \\\\\n",
        "&= \\mathbb E[\\frac{1}{N} \\sum_{i=1}^N (\\alpha_i - \\bar \\alpha_N)^2] - Var(\\alpha_1) \\\\\n",
        "&= \\frac{1}{N} \\mathbb E[\\sum_{i=1}^N (\\alpha_i^2- 2 \\alpha_i \\bar \\alpha_N + \\bar \\alpha_N^2)] - Var(\\alpha_1) \\\\\n",
        "&= \\frac{1}{N} \\mathbb E[\\sum_{i=1}^N \\alpha_i^2 - 2N \\cdot \\bar \\alpha_N^2 + N \\cdot \\bar \\alpha_N^2] - Var(\\alpha_1) \\\\\n",
        "&= \\frac{1}{N} \\sum_{i=1}^N \\mathbb E[\\alpha_i^2] - \\frac{1}{N}\\mathbb E[N \\cdot \\bar \\alpha_N^2] - Var(\\alpha_1) \\\\\n",
        "&= \\mathbb E[\\alpha_1^2] - \\mathbb E[\\bar \\alpha_N^2]- Var(\\alpha_1) \\\\\n",
        "&= \\mathbb E[\\alpha_1]^2 - \\mathbb E[\\bar \\alpha_N^2] .......................(1)\\\\\n",
        "\\end{aligned}\n",
        "\\end{equation}\n",
        "because\n",
        "\\begin{equation}\n",
        "\\begin{aligned}\n",
        "\\mathbb E[\\bar \\alpha_N] &= \\mathbb E[\\frac{1}{N} \\sum_{i=1}^N \\alpha_i] \\\\\n",
        "&= \\frac{1}{N} \\sum_{i=1}^N \\mathbb E[\\alpha_i] \\\\\n",
        "&= \\frac{1}{N} \\cdot N \\cdot \\mathbb E[\\alpha_1] \\\\\n",
        "&= \\mathbb E[\\alpha_1], \\\\\n",
        "\\end{aligned}\n",
        "\\end{equation}\n",
        "so\n",
        "\\begin{equation}\n",
        "\\begin{aligned}\n",
        "(1)=E[\\bar \\alpha_N]^2-E[\\bar \\alpha_N^2]=-Var(\\bar \\alpha_N)=-Var(\\frac{1}{N} \\sum_{i=1}^N \\alpha_i)= -\\frac{1}{N^2} \\sum_{i=1}^N Var(\\alpha_i)=- \\frac{1}{N^2} \\cdot N \\cdot Var(\\alpha_1) = -\\frac{1}{N} Var(\\alpha_1)\\\\\n",
        "\\end{aligned}\n",
        "\\end{equation}\n",
        "βN  is biased\n"
      ]
    },
    {
      "cell_type": "markdown",
      "metadata": {
        "id": "i83niDWMmv8H",
        "colab_type": "text"
      },
      "source": [
        " - To show βN is consistent in L^2, we need to show that \n",
        "$$\\mathbb E[(\\beta_N - Var(\\alpha_1))^2] \\to 0.$$\n"
      ]
    },
    {
      "cell_type": "markdown",
      "metadata": {
        "id": "MR7KrTCmpfmC",
        "colab_type": "text"
      },
      "source": [
        "- find the unbiased estimator:\n",
        "we already know if $$\\beta_N = \\frac{1}{N} \\sum_{i=1}^N (\\alpha_i - \\bar \\alpha_N)^2$$\n",
        "\\begin{equation}\n",
        "\\begin{aligned}\n",
        "Bias（\\beta_N）= \\mathbb E[\\beta_N] - Var(\\alpha_1) =-\\frac{1}{N} Var(\\alpha_1)\\\\\n",
        "\\end{aligned}\n",
        "\\end{equation}\n",
        "so\n",
        "\\begin{equation}\n",
        "\\begin{aligned}\n",
        "\\mathbb E[\\beta_N] = \\frac{N-1}{N} Var(\\alpha_1)\\\\\n",
        "\\mathbb E[\\beta_2]= \\frac{N}{N-1}E[\\beta_N] \\\\\n",
        "\\beta_2= \\frac{1}{N-1} \\sum_{i=1}^N (\\alpha_i - \\bar \\alpha_N)^2\n",
        "\\end{aligned}\n",
        "\\end{equation}"
      ]
    },
    {
      "cell_type": "code",
      "metadata": {
        "id": "I56SQGIDzB68",
        "colab_type": "code",
        "colab": {
          "base_uri": "https://localhost:8080/",
          "height": 34
        },
        "outputId": "00f25f77-ff6b-4695-c13c-22cffa4c82dd"
      },
      "source": [
        "D=0\n",
        "m=0\n",
        "pi_list = []\n",
        "for i in range(100):\n",
        "  A=-1\n",
        "  B= 1\n",
        "  C= 17\n",
        "  i= 0\n",
        "  n= 0\n",
        "  for z in range(10000):\n",
        "      a= random.uniform(A,B)\n",
        "      b= random.uniform(A,B)\n",
        "      if a**2+b**2<1:\n",
        "       n=n+1\n",
        "  pi_list.append(4*n/10000)\n",
        "  D=4*n/10000+D \n",
        "d= D/100\n",
        "for i in range(100):\n",
        "  m = (pi_list[i] - d)**2+m\n",
        "print(str(m/100))"
      ],
      "execution_count": 100,
      "outputs": [
        {
          "output_type": "stream",
          "text": [
            "0.00029377369600000047\n"
          ],
          "name": "stdout"
        }
      ]
    },
    {
      "cell_type": "code",
      "metadata": {
        "id": "Sah--SiZ6kfv",
        "colab_type": "code",
        "colab": {
          "base_uri": "https://localhost:8080/",
          "height": 303
        },
        "outputId": "8c81d651-9de1-4401-e799-7b3a87b23d93"
      },
      "source": [
        "import matplotlib.pyplot as plt\n",
        "y = []\n",
        "for t in range (6):\n",
        "  D=0\n",
        "  m=0\n",
        "  pi_list = []\n",
        "  for i in range(100):\n",
        "    A=-1\n",
        "    B= 1\n",
        "    C= 17\n",
        "    i= 0\n",
        "    n= 0\n",
        "    for z in range((2**(5+t))):\n",
        "        a= random.uniform(A,B)\n",
        "        b= random.uniform(A,B)\n",
        "        if a**2+b**2<1:\n",
        "         n=n+1\n",
        "    pi_list.append(4*n/(2**(5+t)))\n",
        "    D=4*n/(2**(5+t))+D \n",
        "  d= D/100\n",
        "  for i in range(100):\n",
        "    m = (pi_list[i] - d)**2+m\n",
        "  y.append(m/100)  \n",
        "x = [n for n in range(5,11)]\n",
        "print(y)\n",
        "plt.loglog(x,y)"
      ],
      "execution_count": 101,
      "outputs": [
        {
          "output_type": "stream",
          "text": [
            "[0.0953125, 0.03481992187500004, 0.016726074218749998, 0.010693359375000005, 0.0064153503417968705, 0.0026002746582031245]\n"
          ],
          "name": "stdout"
        },
        {
          "output_type": "execute_result",
          "data": {
            "text/plain": [
              "[<matplotlib.lines.Line2D at 0x7f5b3e459198>]"
            ]
          },
          "metadata": {
            "tags": []
          },
          "execution_count": 101
        },
        {
          "output_type": "display_data",
          "data": {
            "image/png": "[encoded data removed]",
            "text/plain": [
              "<Figure size 432x288 with 1 Axes>"
            ]
          },
          "metadata": {
            "tags": []
          }
        }
      ]
    },
    {
      "cell_type": "code",
      "metadata": {
        "id": "acmkfRwDC0U-",
        "colab_type": "code",
        "colab": {
          "base_uri": "https://localhost:8080/",
          "height": 34
        },
        "outputId": "2367b8de-b6ef-47ef-aae8-a7d4323893c3"
      },
      "source": [
        "import random\n",
        "A= 0\n",
        "B= 1\n",
        "C= 17\n",
        "i= 0\n",
        "n= 0\n",
        "for i in range(100000000):\n",
        "  a= random.uniform(A,B)\n",
        "  if a<0.01:\n",
        "    n=n+100\n",
        "  if a>0.01:\n",
        "    n=n+1  \n",
        "print(str(n/100000000))"
      ],
      "execution_count": 103,
      "outputs": [
        {
          "output_type": "stream",
          "text": [
            "1.98990892\n"
          ],
          "name": "stdout"
        }
      ]
    },
    {
      "cell_type": "code",
      "metadata": {
        "id": "anhtMAugRUC9",
        "colab_type": "code",
        "colab": {
          "base_uri": "https://localhost:8080/",
          "height": 303
        },
        "outputId": "8d25c669-6e3e-474d-c077-ea690d92ccb3"
      },
      "source": [
        "import matplotlib.pyplot as plt\n",
        "y = []\n",
        "for t in range (6):\n",
        "  D=0\n",
        "  m=0\n",
        "  i_list = []\n",
        "  for i in range(100):\n",
        "    A= 0\n",
        "    B= 1\n",
        "    C= 17\n",
        "    i= 0\n",
        "    n= 0\n",
        "    for z in range((2**(5+t))):\n",
        "        a= random.uniform(A,B)\n",
        "        if a<0.01:\n",
        "          n=n+100\n",
        "        if a>0.01:\n",
        "          n=n+1  \n",
        "    i_list.append(n/(2**(5+t)))\n",
        "    D=n/(2**(5+t))+D \n",
        "  d= D/100\n",
        "  for i in range(100):\n",
        "    m = (i_list[i] - d)**2+m\n",
        "  y.append(m/100)  \n",
        "x = [n for n in range(5,11)]\n",
        "print(y)\n",
        "plt.loglog(x,y)"
      ],
      "execution_count": 107,
      "outputs": [
        {
          "output_type": "stream",
          "text": [
            "[3.2963519531250016, 1.80203444824219, 0.6783052917480481, 0.39593730926513665, 0.14687442169189455, 0.12475857496261594]\n"
          ],
          "name": "stdout"
        },
        {
          "output_type": "execute_result",
          "data": {
            "text/plain": [
              "[<matplotlib.lines.Line2D at 0x7f5b3e04d278>]"
            ]
          },
          "metadata": {
            "tags": []
          },
          "execution_count": 107
        },
        {
          "output_type": "display_data",
          "data": {
            "image/png": "[encoded data removed]",
            "text/plain": [
              "<Figure size 432x288 with 1 Axes>"
            ]
          },
          "metadata": {
            "tags": []
          }
        }
      ]
    }
  ]
}