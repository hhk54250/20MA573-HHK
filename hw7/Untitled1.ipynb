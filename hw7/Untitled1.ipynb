{
  "nbformat": 4,
  "nbformat_minor": 0,
  "metadata": {
    "colab": {
      "name": "Untitled1.ipynb",
      "provenance": [],
      "authorship_tag": "ABX9TyO/wnv6jUwHDLHaYaLyyzIg",
      "include_colab_link": true
    },
    "kernelspec": {
      "name": "python3",
      "display_name": "Python 3"
    }
  },
  "cells": [
    {
      "cell_type": "markdown",
      "metadata": {
        "id": "view-in-github",
        "colab_type": "text"
      },
      "source": [
        "<a href=\"https://colab.research.google.com/github/hhk54250/20MA573-HHK/blob/master/hw7/Untitled1.ipynb\" target=\"_parent\"><img src=\"https://colab.research.google.com/assets/colab-badge.svg\" alt=\"Open In Colab\"/></a>"
      ]
    },
    {
      "cell_type": "code",
      "metadata": {
        "id": "fF1VPsXy99XB",
        "colab_type": "code",
        "colab": {
          "base_uri": "https://localhost:8080/",
          "height": 85
        },
        "outputId": "d9a2c67b-c1cc-448f-87fd-3f3cf353b703"
      },
      "source": [
        "\n",
        "%cd~\n",
        "\n",
        "!git clone https://github.com/hhk54250/20MA573-HHK.git \n",
        "pass\n",
        "\n",
        "%cd 20MA573-HHK/src/\n",
        "%ls\n",
        "\n",
        "from bsm import *"
      ],
      "execution_count": 44,
      "outputs": [
        {
          "output_type": "stream",
          "text": [
            "/root\n",
            "fatal: destination path '20MA573-HHK' already exists and is not an empty directory.\n",
            "/root/20MA573-HHK/src\n",
            "bsm.py  optiondata.dat  prj01.ipynb  prj02.ipynb  \u001b[0m\u001b[01;34m__pycache__\u001b[0m/\n"
          ],
          "name": "stdout"
        }
      ]
    },
    {
      "cell_type": "code",
      "metadata": {
        "id": "P-TeFZ8m-2VQ",
        "colab_type": "code",
        "colab": {
          "base_uri": "https://localhost:8080/",
          "height": 34
        },
        "outputId": "8a5f4070-4f44-4c06-a398-117cee4daf83"
      },
      "source": [
        "gbm = Gbm(init_state = 100., drift_ratio = .03, vol_ratio = .2)\n",
        "option1 = VanillaOption(strike=97)\n",
        "BS_price = gbm.bsm_price(option1)\n",
        "print (BS_price)\n"
      ],
      "execution_count": 45,
      "outputs": [
        {
          "output_type": "stream",
          "text": [
            "11.014613780922488\n"
          ],
          "name": "stdout"
        }
      ]
    },
    {
      "cell_type": "code",
      "metadata": {
        "id": "va_4aMR-BOS6",
        "colab_type": "code",
        "colab": {
          "base_uri": "https://localhost:8080/",
          "height": 34
        },
        "outputId": "6a029eac-a7b5-4759-bd06-e155ffe4c616"
      },
      "source": [
        "import numpy as np\n",
        "def S(x, drift):\n",
        "  S = drift * x\n",
        "  return S\n",
        "\n",
        "def volatility(vol, x, gamma):\n",
        "  volatility = vol * x**gamma\n",
        "  return volatility\n",
        "\n",
        "def eulerAp(\n",
        "    x,T,N,vol,gamma,\n",
        "    otype = 1,\n",
        "    strike = 97):\n",
        "  delta = T/N\n",
        "  t = np.linspace(0, T, N+1)\n",
        "  x_delta = []\n",
        "  x_delta.append(x)\n",
        "\n",
        "  drift = 0.03\n",
        "  for i in range(N):\n",
        "    Z = np.random.normal(0,1)\n",
        "    x_delta.append(x_delta[i] + S(x,drift) * delta + volatility(vol, x, gamma) * np.sqrt(delta) * Z)\n",
        "  price = max([0, (x_delta[N] - strike) * otype])\n",
        "  return price\n",
        "\n",
        "print(eulerAp(100,1,1000,0.2,1))"
      ],
      "execution_count": 61,
      "outputs": [
        {
          "output_type": "stream",
          "text": [
            "11.520978426915278\n"
          ],
          "name": "stdout"
        }
      ]
    },
    {
      "cell_type": "code",
      "metadata": {
        "id": "8vCZevUdOYFS",
        "colab_type": "code",
        "colab": {
          "base_uri": "https://localhost:8080/",
          "height": 170
        },
        "outputId": "ab5b7d41-b39a-42f5-f4c2-757f0264adc8"
      },
      "source": [
        "np_option_data1 = np.loadtxt('optiondata.dat', comments='#', delimiter=',')\n",
        "\n",
        "print('>>>otype,>>>>>>> maturity, >>strike, >>>>>>option_price')\n",
        "print(np_option_data1)"
      ],
      "execution_count": 47,
      "outputs": [
        {
          "output_type": "stream",
          "text": [
            ">>>otype,>>>>>>> maturity, >>strike, >>>>>>option_price\n",
            "[[  1.           0.16666667  97.           5.32705461]\n",
            " [  1.           0.16666667  99.           3.86224255]\n",
            " [  1.           0.16666667 101.           2.7204371 ]\n",
            " [  1.           0.16666667 103.           2.1202793 ]\n",
            " [  1.           0.41666667  97.           7.23756307]\n",
            " [  1.           0.41666667  99.           5.95053461]\n",
            " [  1.           0.41666667 101.           5.2640122 ]\n",
            " [  1.           0.41666667 103.           4.97493422]]\n"
          ],
          "name": "stdout"
        }
      ]
    },
    {
      "cell_type": "code",
      "metadata": {
        "id": "D0mGWGVoPKCI",
        "colab_type": "code",
        "colab": {
          "base_uri": "https://localhost:8080/",
          "height": 51
        },
        "outputId": "2a930e94-908d-4d49-9ec8-8491f3c2babf"
      },
      "source": [
        "opt_data = option_data1[4:8,]\n",
        "\n",
        "def error_function(calpara):\n",
        "  vol = calpara[0]\n",
        "  elas = calpara[1]\n",
        "  error = 0\n",
        "  for i in np.arange(len(opt_data)):\n",
        "    error += (opt_data[i, 3] - eulerAp(100, opt_data[i,1], 1000, vol, elas, opt_data[i, 0], opt_data[i,2]))**2    \n",
        "  return error\n",
        "\n",
        "init_guess = [.1, 1] \n",
        "print(\">>> The calibrated volatility and elasticity constant respectively equals to \")\n",
        "print(so.fmin(error_function, init_guess, disp = 0))\n",
        "\n"
      ],
      "execution_count": 48,
      "outputs": [
        {
          "output_type": "stream",
          "text": [
            ">>> The calibrated volatility and elasticity constant respectively equals to \n",
            "[0.09994141 1.00039063]\n"
          ],
          "name": "stdout"
        }
      ]
    }
  ]
}